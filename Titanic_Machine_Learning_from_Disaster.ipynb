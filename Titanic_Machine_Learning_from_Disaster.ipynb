{
  "cells": [
    {
      "cell_type": "markdown",
      "metadata": {
        "id": "RdKZ9NbD_z5f"
      },
      "source": [
        "# Titanic - Machine Learning from Disaster\n",
        "\n",
        "The goal is to predict if someone survived the Titanic incident based on given features.\n",
        "> NOTE: Dataset is taken from [here](https://www.kaggle.com/competitions/titanic/overview)"
      ]
    },
    {
      "cell_type": "code",
      "execution_count": 132,
      "metadata": {
        "colab": {
          "base_uri": "https://localhost:8080/"
        },
        "id": "5rplP-Gwz31L",
        "outputId": "0a9d6cb6-258d-4e42-b52c-ab4250d7d77c"
      },
      "outputs": [
        {
          "name": "stdout",
          "output_type": "stream",
          "text": [
            "Notebook last run: 2024-08-01 12:45:23.561030\n"
          ]
        }
      ],
      "source": [
        "import datetime\n",
        "print(f\"Notebook last run: {datetime.datetime.now()}\")"
      ]
    },
    {
      "cell_type": "code",
      "execution_count": 133,
      "metadata": {
        "id": "TbcQjrdghPxd"
      },
      "outputs": [],
      "source": [
        "import pandas as pd\n",
        "import matplotlib.pyplot as plt\n",
        "import seaborn as sns\n",
        "import numpy as np"
      ]
    },
    {
      "cell_type": "code",
      "execution_count": 134,
      "metadata": {
        "colab": {
          "base_uri": "https://localhost:8080/"
        },
        "id": "WN4cE_4rBddm",
        "outputId": "37f1766e-c579-41cf-f567-a2fd4a49bc6a"
      },
      "outputs": [
        {
          "data": {
            "text/plain": [
              "Index(['PassengerId', 'Survived', 'Pclass', 'Name', 'Sex', 'Age', 'SibSp',\n",
              "       'Parch', 'Ticket', 'Fare', 'Cabin', 'Embarked', 'train_test'],\n",
              "      dtype='object')"
            ]
          },
          "execution_count": 134,
          "metadata": {},
          "output_type": "execute_result"
        }
      ],
      "source": [
        "df = pd.read_csv(\"dataset/train.csv\")\n",
        "test = pd.read_csv(\"dataset/test.csv\")\n",
        "\n",
        "# Combine all dataframe into a single dataframe\n",
        "df['train_test'] = 1\n",
        "test['train_test'] = 0\n",
        "test['Survived'] = np.NaN # Make the label for est dataset NaN\n",
        "\n",
        "all_data = pd.concat([df,test])\n",
        "all_data.columns"
      ]
    },
    {
      "cell_type": "code",
      "execution_count": 135,
      "metadata": {
        "colab": {
          "base_uri": "https://localhost:8080/"
        },
        "id": "0GJFFbSTpU4O",
        "outputId": "7b9852af-3d8b-4f17-bfe8-10e09c957531"
      },
      "outputs": [
        {
          "data": {
            "text/plain": [
              "Index(['PassengerId', 'Survived', 'Pclass', 'Age', 'SibSp', 'Parch', 'Fare',\n",
              "       'train_test'],\n",
              "      dtype='object')"
            ]
          },
          "execution_count": 135,
          "metadata": {},
          "output_type": "execute_result"
        }
      ],
      "source": [
        "df.describe().columns"
      ]
    },
    {
      "cell_type": "code",
      "execution_count": 136,
      "metadata": {
        "colab": {
          "base_uri": "https://localhost:8080/",
          "height": 258
        },
        "id": "01C_aqnk-9Vy",
        "outputId": "90a73c71-e47f-4e53-f7e5-f465ea8f8493"
      },
      "outputs": [
        {
          "data": {
            "text/html": [
              "<div>\n",
              "<style scoped>\n",
              "    .dataframe tbody tr th:only-of-type {\n",
              "        vertical-align: middle;\n",
              "    }\n",
              "\n",
              "    .dataframe tbody tr th {\n",
              "        vertical-align: top;\n",
              "    }\n",
              "\n",
              "    .dataframe thead th {\n",
              "        text-align: right;\n",
              "    }\n",
              "</style>\n",
              "<table border=\"1\" class=\"dataframe\">\n",
              "  <thead>\n",
              "    <tr style=\"text-align: right;\">\n",
              "      <th></th>\n",
              "      <th>PassengerId</th>\n",
              "      <th>Survived</th>\n",
              "      <th>Pclass</th>\n",
              "      <th>Name</th>\n",
              "      <th>Sex</th>\n",
              "      <th>Age</th>\n",
              "      <th>SibSp</th>\n",
              "      <th>Parch</th>\n",
              "      <th>Ticket</th>\n",
              "      <th>Fare</th>\n",
              "      <th>Cabin</th>\n",
              "      <th>Embarked</th>\n",
              "      <th>train_test</th>\n",
              "    </tr>\n",
              "  </thead>\n",
              "  <tbody>\n",
              "    <tr>\n",
              "      <th>0</th>\n",
              "      <td>1</td>\n",
              "      <td>0</td>\n",
              "      <td>3</td>\n",
              "      <td>Braund, Mr. Owen Harris</td>\n",
              "      <td>male</td>\n",
              "      <td>22.0</td>\n",
              "      <td>1</td>\n",
              "      <td>0</td>\n",
              "      <td>A/5 21171</td>\n",
              "      <td>7.2500</td>\n",
              "      <td>NaN</td>\n",
              "      <td>S</td>\n",
              "      <td>1</td>\n",
              "    </tr>\n",
              "    <tr>\n",
              "      <th>1</th>\n",
              "      <td>2</td>\n",
              "      <td>1</td>\n",
              "      <td>1</td>\n",
              "      <td>Cumings, Mrs. John Bradley (Florence Briggs Th...</td>\n",
              "      <td>female</td>\n",
              "      <td>38.0</td>\n",
              "      <td>1</td>\n",
              "      <td>0</td>\n",
              "      <td>PC 17599</td>\n",
              "      <td>71.2833</td>\n",
              "      <td>C85</td>\n",
              "      <td>C</td>\n",
              "      <td>1</td>\n",
              "    </tr>\n",
              "    <tr>\n",
              "      <th>2</th>\n",
              "      <td>3</td>\n",
              "      <td>1</td>\n",
              "      <td>3</td>\n",
              "      <td>Heikkinen, Miss. Laina</td>\n",
              "      <td>female</td>\n",
              "      <td>26.0</td>\n",
              "      <td>0</td>\n",
              "      <td>0</td>\n",
              "      <td>STON/O2. 3101282</td>\n",
              "      <td>7.9250</td>\n",
              "      <td>NaN</td>\n",
              "      <td>S</td>\n",
              "      <td>1</td>\n",
              "    </tr>\n",
              "    <tr>\n",
              "      <th>3</th>\n",
              "      <td>4</td>\n",
              "      <td>1</td>\n",
              "      <td>1</td>\n",
              "      <td>Futrelle, Mrs. Jacques Heath (Lily May Peel)</td>\n",
              "      <td>female</td>\n",
              "      <td>35.0</td>\n",
              "      <td>1</td>\n",
              "      <td>0</td>\n",
              "      <td>113803</td>\n",
              "      <td>53.1000</td>\n",
              "      <td>C123</td>\n",
              "      <td>S</td>\n",
              "      <td>1</td>\n",
              "    </tr>\n",
              "    <tr>\n",
              "      <th>4</th>\n",
              "      <td>5</td>\n",
              "      <td>0</td>\n",
              "      <td>3</td>\n",
              "      <td>Allen, Mr. William Henry</td>\n",
              "      <td>male</td>\n",
              "      <td>35.0</td>\n",
              "      <td>0</td>\n",
              "      <td>0</td>\n",
              "      <td>373450</td>\n",
              "      <td>8.0500</td>\n",
              "      <td>NaN</td>\n",
              "      <td>S</td>\n",
              "      <td>1</td>\n",
              "    </tr>\n",
              "  </tbody>\n",
              "</table>\n",
              "</div>"
            ],
            "text/plain": [
              "   PassengerId  Survived  Pclass  \\\n",
              "0            1         0       3   \n",
              "1            2         1       1   \n",
              "2            3         1       3   \n",
              "3            4         1       1   \n",
              "4            5         0       3   \n",
              "\n",
              "                                                Name     Sex   Age  SibSp  \\\n",
              "0                            Braund, Mr. Owen Harris    male  22.0      1   \n",
              "1  Cumings, Mrs. John Bradley (Florence Briggs Th...  female  38.0      1   \n",
              "2                             Heikkinen, Miss. Laina  female  26.0      0   \n",
              "3       Futrelle, Mrs. Jacques Heath (Lily May Peel)  female  35.0      1   \n",
              "4                           Allen, Mr. William Henry    male  35.0      0   \n",
              "\n",
              "   Parch            Ticket     Fare Cabin Embarked  train_test  \n",
              "0      0         A/5 21171   7.2500   NaN        S           1  \n",
              "1      0          PC 17599  71.2833   C85        C           1  \n",
              "2      0  STON/O2. 3101282   7.9250   NaN        S           1  \n",
              "3      0            113803  53.1000  C123        S           1  \n",
              "4      0            373450   8.0500   NaN        S           1  "
            ]
          },
          "execution_count": 136,
          "metadata": {},
          "output_type": "execute_result"
        }
      ],
      "source": [
        "df.head()"
      ]
    },
    {
      "cell_type": "markdown",
      "metadata": {
        "id": "wzNmB9Ix_AKr"
      },
      "source": [
        "# EDA (Exploratory Data Analysis)"
      ]
    },
    {
      "cell_type": "code",
      "execution_count": 137,
      "metadata": {
        "colab": {
          "base_uri": "https://localhost:8080/"
        },
        "id": "FV0LXc_Z-_HK",
        "outputId": "f03abd90-ab66-4ecd-9977-6d277b6bf892"
      },
      "outputs": [
        {
          "name": "stdout",
          "output_type": "stream",
          "text": [
            "<class 'pandas.core.frame.DataFrame'>\n",
            "RangeIndex: 891 entries, 0 to 890\n",
            "Data columns (total 13 columns):\n",
            " #   Column       Non-Null Count  Dtype  \n",
            "---  ------       --------------  -----  \n",
            " 0   PassengerId  891 non-null    int64  \n",
            " 1   Survived     891 non-null    int64  \n",
            " 2   Pclass       891 non-null    int64  \n",
            " 3   Name         891 non-null    object \n",
            " 4   Sex          891 non-null    object \n",
            " 5   Age          714 non-null    float64\n",
            " 6   SibSp        891 non-null    int64  \n",
            " 7   Parch        891 non-null    int64  \n",
            " 8   Ticket       891 non-null    object \n",
            " 9   Fare         891 non-null    float64\n",
            " 10  Cabin        204 non-null    object \n",
            " 11  Embarked     889 non-null    object \n",
            " 12  train_test   891 non-null    int64  \n",
            "dtypes: float64(2), int64(6), object(5)\n",
            "memory usage: 90.6+ KB\n"
          ]
        }
      ],
      "source": [
        "df.info()"
      ]
    },
    {
      "cell_type": "code",
      "execution_count": 138,
      "metadata": {
        "colab": {
          "base_uri": "https://localhost:8080/",
          "height": 300
        },
        "id": "ceKsJ690ET5Q",
        "outputId": "5f0f5c56-0774-49a6-86a8-fe4876778d64"
      },
      "outputs": [
        {
          "data": {
            "text/html": [
              "<div>\n",
              "<style scoped>\n",
              "    .dataframe tbody tr th:only-of-type {\n",
              "        vertical-align: middle;\n",
              "    }\n",
              "\n",
              "    .dataframe tbody tr th {\n",
              "        vertical-align: top;\n",
              "    }\n",
              "\n",
              "    .dataframe thead th {\n",
              "        text-align: right;\n",
              "    }\n",
              "</style>\n",
              "<table border=\"1\" class=\"dataframe\">\n",
              "  <thead>\n",
              "    <tr style=\"text-align: right;\">\n",
              "      <th></th>\n",
              "      <th>PassengerId</th>\n",
              "      <th>Survived</th>\n",
              "      <th>Pclass</th>\n",
              "      <th>Age</th>\n",
              "      <th>SibSp</th>\n",
              "      <th>Parch</th>\n",
              "      <th>Fare</th>\n",
              "      <th>train_test</th>\n",
              "    </tr>\n",
              "  </thead>\n",
              "  <tbody>\n",
              "    <tr>\n",
              "      <th>count</th>\n",
              "      <td>891.000000</td>\n",
              "      <td>891.000000</td>\n",
              "      <td>891.000000</td>\n",
              "      <td>714.000000</td>\n",
              "      <td>891.000000</td>\n",
              "      <td>891.000000</td>\n",
              "      <td>891.000000</td>\n",
              "      <td>891.0</td>\n",
              "    </tr>\n",
              "    <tr>\n",
              "      <th>mean</th>\n",
              "      <td>446.000000</td>\n",
              "      <td>0.383838</td>\n",
              "      <td>2.308642</td>\n",
              "      <td>29.699118</td>\n",
              "      <td>0.523008</td>\n",
              "      <td>0.381594</td>\n",
              "      <td>32.204208</td>\n",
              "      <td>1.0</td>\n",
              "    </tr>\n",
              "    <tr>\n",
              "      <th>std</th>\n",
              "      <td>257.353842</td>\n",
              "      <td>0.486592</td>\n",
              "      <td>0.836071</td>\n",
              "      <td>14.526497</td>\n",
              "      <td>1.102743</td>\n",
              "      <td>0.806057</td>\n",
              "      <td>49.693429</td>\n",
              "      <td>0.0</td>\n",
              "    </tr>\n",
              "    <tr>\n",
              "      <th>min</th>\n",
              "      <td>1.000000</td>\n",
              "      <td>0.000000</td>\n",
              "      <td>1.000000</td>\n",
              "      <td>0.420000</td>\n",
              "      <td>0.000000</td>\n",
              "      <td>0.000000</td>\n",
              "      <td>0.000000</td>\n",
              "      <td>1.0</td>\n",
              "    </tr>\n",
              "    <tr>\n",
              "      <th>25%</th>\n",
              "      <td>223.500000</td>\n",
              "      <td>0.000000</td>\n",
              "      <td>2.000000</td>\n",
              "      <td>20.125000</td>\n",
              "      <td>0.000000</td>\n",
              "      <td>0.000000</td>\n",
              "      <td>7.910400</td>\n",
              "      <td>1.0</td>\n",
              "    </tr>\n",
              "    <tr>\n",
              "      <th>50%</th>\n",
              "      <td>446.000000</td>\n",
              "      <td>0.000000</td>\n",
              "      <td>3.000000</td>\n",
              "      <td>28.000000</td>\n",
              "      <td>0.000000</td>\n",
              "      <td>0.000000</td>\n",
              "      <td>14.454200</td>\n",
              "      <td>1.0</td>\n",
              "    </tr>\n",
              "    <tr>\n",
              "      <th>75%</th>\n",
              "      <td>668.500000</td>\n",
              "      <td>1.000000</td>\n",
              "      <td>3.000000</td>\n",
              "      <td>38.000000</td>\n",
              "      <td>1.000000</td>\n",
              "      <td>0.000000</td>\n",
              "      <td>31.000000</td>\n",
              "      <td>1.0</td>\n",
              "    </tr>\n",
              "    <tr>\n",
              "      <th>max</th>\n",
              "      <td>891.000000</td>\n",
              "      <td>1.000000</td>\n",
              "      <td>3.000000</td>\n",
              "      <td>80.000000</td>\n",
              "      <td>8.000000</td>\n",
              "      <td>6.000000</td>\n",
              "      <td>512.329200</td>\n",
              "      <td>1.0</td>\n",
              "    </tr>\n",
              "  </tbody>\n",
              "</table>\n",
              "</div>"
            ],
            "text/plain": [
              "       PassengerId    Survived      Pclass         Age       SibSp  \\\n",
              "count   891.000000  891.000000  891.000000  714.000000  891.000000   \n",
              "mean    446.000000    0.383838    2.308642   29.699118    0.523008   \n",
              "std     257.353842    0.486592    0.836071   14.526497    1.102743   \n",
              "min       1.000000    0.000000    1.000000    0.420000    0.000000   \n",
              "25%     223.500000    0.000000    2.000000   20.125000    0.000000   \n",
              "50%     446.000000    0.000000    3.000000   28.000000    0.000000   \n",
              "75%     668.500000    1.000000    3.000000   38.000000    1.000000   \n",
              "max     891.000000    1.000000    3.000000   80.000000    8.000000   \n",
              "\n",
              "            Parch        Fare  train_test  \n",
              "count  891.000000  891.000000       891.0  \n",
              "mean     0.381594   32.204208         1.0  \n",
              "std      0.806057   49.693429         0.0  \n",
              "min      0.000000    0.000000         1.0  \n",
              "25%      0.000000    7.910400         1.0  \n",
              "50%      0.000000   14.454200         1.0  \n",
              "75%      0.000000   31.000000         1.0  \n",
              "max      6.000000  512.329200         1.0  "
            ]
          },
          "execution_count": 138,
          "metadata": {},
          "output_type": "execute_result"
        }
      ],
      "source": [
        "df.describe()"
      ]
    },
    {
      "cell_type": "code",
      "execution_count": 139,
      "metadata": {
        "colab": {
          "base_uri": "https://localhost:8080/",
          "height": 491
        },
        "id": "TxvXR4JnDjW_",
        "outputId": "2b3d9e38-7f72-4611-fa59-f0135837510d"
      },
      "outputs": [
        {
          "data": {
            "text/plain": [
              "PassengerId      0\n",
              "Survived         0\n",
              "Pclass           0\n",
              "Name             0\n",
              "Sex              0\n",
              "Age            177\n",
              "SibSp            0\n",
              "Parch            0\n",
              "Ticket           0\n",
              "Fare             0\n",
              "Cabin          687\n",
              "Embarked         2\n",
              "train_test       0\n",
              "dtype: int64"
            ]
          },
          "execution_count": 139,
          "metadata": {},
          "output_type": "execute_result"
        }
      ],
      "source": [
        "df.isnull().sum()"
      ]
    },
    {
      "cell_type": "markdown",
      "metadata": {
        "id": "-Q6q7mMwEJpm"
      },
      "source": [
        "# Separate numerical and categorical data"
      ]
    },
    {
      "cell_type": "code",
      "execution_count": 140,
      "metadata": {
        "id": "VRYiAR5REjs_"
      },
      "outputs": [],
      "source": [
        "df_num = df[['Age', 'SibSp', 'Parch', 'Fare']]\n",
        "df_cat = df[['Survived', 'Pclass', 'Sex', 'Ticket', 'Cabin', 'Embarked']]"
      ]
    },
    {
      "cell_type": "code",
      "execution_count": 141,
      "metadata": {
        "id": "tTuXeWIxIrh_"
      },
      "outputs": [],
      "source": [
        "def plot_num_data (columns):\n",
        "  \"\"\"\n",
        "    Plot numerical data\n",
        "  \"\"\"\n",
        "  for column in columns:\n",
        "    plt.hist(df_num[column], bins='auto')\n",
        "    plt.title(column)\n",
        "    plt.show()"
      ]
    },
    {
      "cell_type": "code",
      "execution_count": 142,
      "metadata": {
        "colab": {
          "base_uri": "https://localhost:8080/",
          "height": 1000
        },
        "id": "TuJ4SnfQFT3_",
        "outputId": "0edd7b22-419a-4d63-8690-af9f6b5d9a8d"
      },
      "outputs": [
        {
          "data": {
            "image/png": "[encoded data removed]",
            "text/plain": [
              "<Figure size 640x480 with 1 Axes>"
            ]
          },
          "metadata": {},
          "output_type": "display_data"
        },
        {
          "data": {
            "image/png": "[encoded data removed]",
            "text/plain": [
              "<Figure size 640x480 with 1 Axes>"
            ]
          },
          "metadata": {},
          "output_type": "display_data"
        },
        {
          "data": {
            "image/png": "[encoded data removed]",
            "text/plain": [
              "<Figure size 640x480 with 1 Axes>"
            ]
          },
          "metadata": {},
          "output_type": "display_data"
        },
        {
          "data": {
            "image/png": "[encoded data removed]",
            "text/plain": [
              "<Figure size 640x480 with 1 Axes>"
            ]
          },
          "metadata": {},
          "output_type": "display_data"
        }
      ],
      "source": [
        "plot_num_data(df_num.columns)"
      ]
    },
    {
      "cell_type": "markdown",
      "metadata": {
        "id": "zRZv9KJ8FYlO"
      },
      "source": [
        "Some features, like fare, are not normally distributed, we have to normalize it later."
      ]
    },
    {
      "cell_type": "markdown",
      "metadata": {
        "id": "_Bp5Vd3RJOqi"
      },
      "source": [
        "Check for correlation"
      ]
    },
    {
      "cell_type": "code",
      "execution_count": 143,
      "metadata": {
        "colab": {
          "base_uri": "https://localhost:8080/",
          "height": 699
        },
        "id": "_2dNN7RVJQ9j",
        "outputId": "bcee45ec-a9a6-409d-9bdb-08876d349e3b"
      },
      "outputs": [
        {
          "data": {
            "text/plain": [
              "<Axes: >"
            ]
          },
          "execution_count": 143,
          "metadata": {},
          "output_type": "execute_result"
        },
        {
          "data": {
            "image/png": "[encoded data removed]",
            "text/plain": [
              "<Figure size 1200x800 with 2 Axes>"
            ]
          },
          "metadata": {},
          "output_type": "display_data"
        }
      ],
      "source": [
        "plt.figure(figsize=(12,8))\n",
        "sns.heatmap(df_num.corr(), cmap='crest', annot= True)"
      ]
    },
    {
      "cell_type": "code",
      "execution_count": 144,
      "metadata": {
        "colab": {
          "base_uri": "https://localhost:8080/",
          "height": 143
        },
        "id": "7UQ8AQA4J5vj",
        "outputId": "af565524-bab9-47f6-a0c4-f72c0e470a95"
      },
      "outputs": [
        {
          "data": {
            "text/html": [
              "<div>\n",
              "<style scoped>\n",
              "    .dataframe tbody tr th:only-of-type {\n",
              "        vertical-align: middle;\n",
              "    }\n",
              "\n",
              "    .dataframe tbody tr th {\n",
              "        vertical-align: top;\n",
              "    }\n",
              "\n",
              "    .dataframe thead th {\n",
              "        text-align: right;\n",
              "    }\n",
              "</style>\n",
              "<table border=\"1\" class=\"dataframe\">\n",
              "  <thead>\n",
              "    <tr style=\"text-align: right;\">\n",
              "      <th></th>\n",
              "      <th>Age</th>\n",
              "      <th>Fare</th>\n",
              "      <th>Parch</th>\n",
              "      <th>SibSp</th>\n",
              "    </tr>\n",
              "    <tr>\n",
              "      <th>Survived</th>\n",
              "      <th></th>\n",
              "      <th></th>\n",
              "      <th></th>\n",
              "      <th></th>\n",
              "    </tr>\n",
              "  </thead>\n",
              "  <tbody>\n",
              "    <tr>\n",
              "      <th>0</th>\n",
              "      <td>30.626179</td>\n",
              "      <td>22.117887</td>\n",
              "      <td>0.329690</td>\n",
              "      <td>0.553734</td>\n",
              "    </tr>\n",
              "    <tr>\n",
              "      <th>1</th>\n",
              "      <td>28.343690</td>\n",
              "      <td>48.395408</td>\n",
              "      <td>0.464912</td>\n",
              "      <td>0.473684</td>\n",
              "    </tr>\n",
              "  </tbody>\n",
              "</table>\n",
              "</div>"
            ],
            "text/plain": [
              "                Age       Fare     Parch     SibSp\n",
              "Survived                                          \n",
              "0         30.626179  22.117887  0.329690  0.553734\n",
              "1         28.343690  48.395408  0.464912  0.473684"
            ]
          },
          "execution_count": 144,
          "metadata": {},
          "output_type": "execute_result"
        }
      ],
      "source": [
        "# Check survival rate across all numerical features (avg)\n",
        "pd.pivot_table(df, index= 'Survived', values =['Age', 'SibSp', 'Parch', 'Fare'])"
      ]
    },
    {
      "cell_type": "markdown",
      "metadata": {
        "id": "AFMDJBvlKTmt"
      },
      "source": [
        "### Insight\n",
        "Rich and young people have higher survival rate"
      ]
    },
    {
      "cell_type": "code",
      "execution_count": 145,
      "metadata": {
        "id": "eZ1NTT6kKi6F"
      },
      "outputs": [],
      "source": [
        "def plot_cat_data(columns):\n",
        "  \"\"\"\n",
        "    Plot categorical data\n",
        "  \"\"\"\n",
        "  for column in columns:\n",
        "    plt.figure(figsize=(10, 6))  # Adjust the size of each plot\n",
        "    sns.barplot(x=df_cat[column].value_counts().index, y=df_cat[column].value_counts()).set_title(column)\n",
        "    plt.xlabel(column)\n",
        "    plt.ylabel('Count')\n",
        "    plt.xticks(rotation=45)  # Rotate x-axis labels for better readability\n",
        "    plt.show()"
      ]
    },
    {
      "cell_type": "code",
      "execution_count": 146,
      "metadata": {
        "colab": {
          "base_uri": "https://localhost:8080/",
          "height": 1000
        },
        "id": "omBn9MNaLk8l",
        "outputId": "f2275519-69e8-4988-e5ad-e3bc9240db02"
      },
      "outputs": [
        {
          "data": {
            "image/png": "[encoded data removed]",
            "text/plain": [
              "<Figure size 1000x600 with 1 Axes>"
            ]
          },
          "metadata": {},
          "output_type": "display_data"
        },
        {
          "data": {
            "image/png": "[encoded data removed]",
            "text/plain": [
              "<Figure size 1000x600 with 1 Axes>"
            ]
          },
          "metadata": {},
          "output_type": "display_data"
        },
        {
          "data": {
            "image/png": "[encoded data removed]",
            "text/plain": [
              "<Figure size 1000x600 with 1 Axes>"
            ]
          },
          "metadata": {},
          "output_type": "display_data"
        },
        {
          "data": {
            "image/png": "[encoded data removed]",
            "text/plain": [
              "<Figure size 1000x600 with 1 Axes>"
            ]
          },
          "metadata": {},
          "output_type": "display_data"
        },
        {
          "data": {
            "image/png": "[encoded data removed]",
            "text/plain": [
              "<Figure size 1000x600 with 1 Axes>"
            ]
          },
          "metadata": {},
          "output_type": "display_data"
        },
        {
          "data": {
            "image/png": "[encoded data removed]",
            "text/plain": [
              "<Figure size 1000x600 with 1 Axes>"
            ]
          },
          "metadata": {},
          "output_type": "display_data"
        }
      ],
      "source": [
        "plot_cat_data(df_cat.columns)"
      ]
    },
    {
      "cell_type": "code",
      "execution_count": 147,
      "metadata": {
        "colab": {
          "base_uri": "https://localhost:8080/"
        },
        "id": "DdmPccjhN1oz",
        "outputId": "09a340a6-95e4-4ba2-a7f3-b8d9d23a321f"
      },
      "outputs": [
        {
          "name": "stdout",
          "output_type": "stream",
          "text": [
            "Pclass      1   2    3\n",
            "Survived              \n",
            "0          80  97  372\n",
            "1         136  87  119\n",
            "\n",
            "Sex       female  male\n",
            "Survived              \n",
            "0             81   468\n",
            "1            233   109\n",
            "\n",
            "Embarked   C   Q    S\n",
            "Survived             \n",
            "0         75  47  427\n",
            "1         93  30  217\n"
          ]
        }
      ],
      "source": [
        "print (pd.pivot_table(df, index= 'Survived', columns= 'Pclass', values= 'Ticket', aggfunc= 'count'))\n",
        "print()\n",
        "print (pd.pivot_table(df, index= 'Survived', columns= 'Sex', values= 'Ticket', aggfunc= 'count'))\n",
        "print()\n",
        "print (pd.pivot_table(df, index= 'Survived', columns= 'Embarked', values= 'Ticket', aggfunc= 'count'))"
      ]
    },
    {
      "cell_type": "markdown",
      "metadata": {
        "id": "dVbeoLRzOwsh"
      },
      "source": [
        "### Insight\n",
        "\n",
        "Pclass 1 has higher survival than Pclass 1 and 3. Female also has higher survival rate than male. Embarked on S has higher survival rate than C and Q."
      ]
    },
    {
      "cell_type": "markdown",
      "metadata": {
        "id": "yza3Lcy2POhb"
      },
      "source": [
        "# Feature Engineering"
      ]
    },
    {
      "cell_type": "markdown",
      "metadata": {
        "id": "_kILplPvieiT"
      },
      "source": [
        "## 1. Simplify cabins\n",
        "\n",
        "  Change the cabin feature into something useful."
      ]
    },
    {
      "cell_type": "code",
      "execution_count": 148,
      "metadata": {
        "colab": {
          "base_uri": "https://localhost:8080/",
          "height": 272
        },
        "id": "Y5gq5EaePSZ8",
        "outputId": "c765551f-71eb-4a71-c674-8b55754cf877"
      },
      "outputs": [
        {
          "data": {
            "text/plain": [
              "cabin_multiple\n",
              "0    687\n",
              "1    180\n",
              "2     16\n",
              "3      6\n",
              "4      2\n",
              "Name: count, dtype: int64"
            ]
          },
          "execution_count": 148,
          "metadata": {},
          "output_type": "execute_result"
        }
      ],
      "source": [
        "# Make a new feature which contains the number of cabin that a passenger has.\n",
        "df['cabin_multiple'] = df.Cabin.apply(lambda x: 0 if pd.isna(x) else len(x.split(' '))) # Create a new feature that tells how many cabin a passenger has\n",
        "df['cabin_multiple'].value_counts()"
      ]
    },
    {
      "cell_type": "code",
      "execution_count": 149,
      "metadata": {
        "colab": {
          "base_uri": "https://localhost:8080/",
          "height": 143
        },
        "id": "IOzhU62BjwwW",
        "outputId": "929b1d42-e122-412c-ef38-341b1dc693e9"
      },
      "outputs": [
        {
          "data": {
            "text/html": [
              "<div>\n",
              "<style scoped>\n",
              "    .dataframe tbody tr th:only-of-type {\n",
              "        vertical-align: middle;\n",
              "    }\n",
              "\n",
              "    .dataframe tbody tr th {\n",
              "        vertical-align: top;\n",
              "    }\n",
              "\n",
              "    .dataframe thead th {\n",
              "        text-align: right;\n",
              "    }\n",
              "</style>\n",
              "<table border=\"1\" class=\"dataframe\">\n",
              "  <thead>\n",
              "    <tr style=\"text-align: right;\">\n",
              "      <th>cabin_multiple</th>\n",
              "      <th>0</th>\n",
              "      <th>1</th>\n",
              "      <th>2</th>\n",
              "      <th>3</th>\n",
              "      <th>4</th>\n",
              "    </tr>\n",
              "    <tr>\n",
              "      <th>Survived</th>\n",
              "      <th></th>\n",
              "      <th></th>\n",
              "      <th></th>\n",
              "      <th></th>\n",
              "      <th></th>\n",
              "    </tr>\n",
              "  </thead>\n",
              "  <tbody>\n",
              "    <tr>\n",
              "      <th>0</th>\n",
              "      <td>481.0</td>\n",
              "      <td>58.0</td>\n",
              "      <td>7.0</td>\n",
              "      <td>3.0</td>\n",
              "      <td>NaN</td>\n",
              "    </tr>\n",
              "    <tr>\n",
              "      <th>1</th>\n",
              "      <td>206.0</td>\n",
              "      <td>122.0</td>\n",
              "      <td>9.0</td>\n",
              "      <td>3.0</td>\n",
              "      <td>2.0</td>\n",
              "    </tr>\n",
              "  </tbody>\n",
              "</table>\n",
              "</div>"
            ],
            "text/plain": [
              "cabin_multiple      0      1    2    3    4\n",
              "Survived                                   \n",
              "0               481.0   58.0  7.0  3.0  NaN\n",
              "1               206.0  122.0  9.0  3.0  2.0"
            ]
          },
          "execution_count": 149,
          "metadata": {},
          "output_type": "execute_result"
        }
      ],
      "source": [
        "pd.pivot_table(df, index = 'Survived', columns = 'cabin_multiple', values = 'Ticket' ,aggfunc ='count')"
      ]
    },
    {
      "cell_type": "code",
      "execution_count": 150,
      "metadata": {
        "id": "fqnIIAzVn7Wo"
      },
      "outputs": [],
      "source": [
        "# Create categories based on the first cabin letter (n stands for null)\n",
        "# We will treat null values like it's own category\n",
        "\n",
        "df['cabin_adv'] = df.Cabin.apply(lambda x: str(x)[0]) # Convert the X to string and take the first letter"
      ]
    },
    {
      "cell_type": "code",
      "execution_count": 151,
      "metadata": {
        "colab": {
          "base_uri": "https://localhost:8080/",
          "height": 334
        },
        "id": "4Ot5vUQ3n-wc",
        "outputId": "90ccfe66-24f0-4e9a-dd75-503f99359df7"
      },
      "outputs": [
        {
          "name": "stdout",
          "output_type": "stream",
          "text": [
            "cabin_adv\n",
            "n    687\n",
            "C     59\n",
            "B     47\n",
            "D     33\n",
            "E     32\n",
            "A     15\n",
            "F     13\n",
            "G      4\n",
            "T      1\n",
            "Name: count, dtype: int64\n"
          ]
        },
        {
          "data": {
            "text/html": [
              "<div>\n",
              "<style scoped>\n",
              "    .dataframe tbody tr th:only-of-type {\n",
              "        vertical-align: middle;\n",
              "    }\n",
              "\n",
              "    .dataframe tbody tr th {\n",
              "        vertical-align: top;\n",
              "    }\n",
              "\n",
              "    .dataframe thead th {\n",
              "        text-align: right;\n",
              "    }\n",
              "</style>\n",
              "<table border=\"1\" class=\"dataframe\">\n",
              "  <thead>\n",
              "    <tr style=\"text-align: right;\">\n",
              "      <th>cabin_adv</th>\n",
              "      <th>A</th>\n",
              "      <th>B</th>\n",
              "      <th>C</th>\n",
              "      <th>D</th>\n",
              "      <th>E</th>\n",
              "      <th>F</th>\n",
              "      <th>G</th>\n",
              "      <th>T</th>\n",
              "      <th>n</th>\n",
              "    </tr>\n",
              "    <tr>\n",
              "      <th>Survived</th>\n",
              "      <th></th>\n",
              "      <th></th>\n",
              "      <th></th>\n",
              "      <th></th>\n",
              "      <th></th>\n",
              "      <th></th>\n",
              "      <th></th>\n",
              "      <th></th>\n",
              "      <th></th>\n",
              "    </tr>\n",
              "  </thead>\n",
              "  <tbody>\n",
              "    <tr>\n",
              "      <th>0</th>\n",
              "      <td>8.0</td>\n",
              "      <td>12.0</td>\n",
              "      <td>24.0</td>\n",
              "      <td>8.0</td>\n",
              "      <td>8.0</td>\n",
              "      <td>5.0</td>\n",
              "      <td>2.0</td>\n",
              "      <td>1.0</td>\n",
              "      <td>481.0</td>\n",
              "    </tr>\n",
              "    <tr>\n",
              "      <th>1</th>\n",
              "      <td>7.0</td>\n",
              "      <td>35.0</td>\n",
              "      <td>35.0</td>\n",
              "      <td>25.0</td>\n",
              "      <td>24.0</td>\n",
              "      <td>8.0</td>\n",
              "      <td>2.0</td>\n",
              "      <td>NaN</td>\n",
              "      <td>206.0</td>\n",
              "    </tr>\n",
              "  </tbody>\n",
              "</table>\n",
              "</div>"
            ],
            "text/plain": [
              "cabin_adv    A     B     C     D     E    F    G    T      n\n",
              "Survived                                                    \n",
              "0          8.0  12.0  24.0   8.0   8.0  5.0  2.0  1.0  481.0\n",
              "1          7.0  35.0  35.0  25.0  24.0  8.0  2.0  NaN  206.0"
            ]
          },
          "execution_count": 151,
          "metadata": {},
          "output_type": "execute_result"
        }
      ],
      "source": [
        "print(df.cabin_adv.value_counts())\n",
        "pd.pivot_table(df,index='Survived',columns='cabin_adv', values = 'Name', aggfunc='count')"
      ]
    },
    {
      "cell_type": "code",
      "execution_count": 152,
      "metadata": {
        "colab": {
          "base_uri": "https://localhost:8080/",
          "height": 1000
        },
        "id": "1l4RLt4goxwg",
        "outputId": "058de14c-c619-4989-c0e6-96a0940df50e"
      },
      "outputs": [
        {
          "data": {
            "text/plain": [
              "Ticket\n",
              "347082      7\n",
              "CA. 2343    7\n",
              "1601        7\n",
              "3101295     6\n",
              "CA 2144     6\n",
              "           ..\n",
              "9234        1\n",
              "19988       1\n",
              "2693        1\n",
              "PC 17612    1\n",
              "370376      1\n",
              "Name: count, Length: 681, dtype: int64"
            ]
          },
          "execution_count": 152,
          "metadata": {},
          "output_type": "execute_result"
        }
      ],
      "source": [
        "df['Ticket'].value_counts()"
      ]
    },
    {
      "cell_type": "markdown",
      "metadata": {
        "id": "OCMDh4DRqQjo"
      },
      "source": [
        "### Insight\n",
        "Since there are tickets which contain only numerical value and numerical + letters, we have to make another category for tickets."
      ]
    },
    {
      "cell_type": "code",
      "execution_count": 153,
      "metadata": {
        "colab": {
          "base_uri": "https://localhost:8080/",
          "height": 1000
        },
        "id": "Yh_G8m8Pqfa9",
        "outputId": "b14ef356-1720-4db0-e821-4de43c778c43"
      },
      "outputs": [
        {
          "data": {
            "text/plain": [
              "letter_ticket\n",
              "0            665\n",
              "pc            60\n",
              "ca            41\n",
              "a5            21\n",
              "stono2        18\n",
              "sotonoq       15\n",
              "scparis       11\n",
              "wc            10\n",
              "a4             7\n",
              "soc            6\n",
              "fcc            5\n",
              "c              5\n",
              "sopp           3\n",
              "pp             3\n",
              "wep            3\n",
              "ppp            2\n",
              "scah           2\n",
              "sotono2        2\n",
              "swpp           2\n",
              "fc             1\n",
              "scahbasle      1\n",
              "as             1\n",
              "sp             1\n",
              "sc             1\n",
              "scow           1\n",
              "fa             1\n",
              "sop            1\n",
              "sca4           1\n",
              "casoton        1\n",
              "Name: count, dtype: int64"
            ]
          },
          "execution_count": 153,
          "metadata": {},
          "output_type": "execute_result"
        }
      ],
      "source": [
        "# Combine the letters together and lowercase it, remove the numerical value after the letters since we dont need it.\n",
        "\n",
        "df['numerical_tickets'] = df.Ticket.apply(lambda x: 1 if x.isnumeric() else 0)\n",
        "df['letter_ticket'] = df.Ticket.apply(lambda x: ''.join(x.split(' ')[:-1]).replace('.','').replace('/','').lower() if len(x.split(' ')[:-1]) >0 else 0)\n",
        "\n",
        "df['letter_ticket'].value_counts()"
      ]
    },
    {
      "cell_type": "code",
      "execution_count": 154,
      "metadata": {
        "colab": {
          "base_uri": "https://localhost:8080/",
          "height": 143
        },
        "id": "YNXtQVSusSMS",
        "outputId": "dae1bb5b-de61-4781-f359-7980566f230f"
      },
      "outputs": [
        {
          "data": {
            "text/html": [
              "<div>\n",
              "<style scoped>\n",
              "    .dataframe tbody tr th:only-of-type {\n",
              "        vertical-align: middle;\n",
              "    }\n",
              "\n",
              "    .dataframe tbody tr th {\n",
              "        vertical-align: top;\n",
              "    }\n",
              "\n",
              "    .dataframe thead th {\n",
              "        text-align: right;\n",
              "    }\n",
              "</style>\n",
              "<table border=\"1\" class=\"dataframe\">\n",
              "  <thead>\n",
              "    <tr style=\"text-align: right;\">\n",
              "      <th>numerical_tickets</th>\n",
              "      <th>0</th>\n",
              "      <th>1</th>\n",
              "    </tr>\n",
              "    <tr>\n",
              "      <th>Survived</th>\n",
              "      <th></th>\n",
              "      <th></th>\n",
              "    </tr>\n",
              "  </thead>\n",
              "  <tbody>\n",
              "    <tr>\n",
              "      <th>0</th>\n",
              "      <td>142</td>\n",
              "      <td>407</td>\n",
              "    </tr>\n",
              "    <tr>\n",
              "      <th>1</th>\n",
              "      <td>88</td>\n",
              "      <td>254</td>\n",
              "    </tr>\n",
              "  </tbody>\n",
              "</table>\n",
              "</div>"
            ],
            "text/plain": [
              "numerical_tickets    0    1\n",
              "Survived                   \n",
              "0                  142  407\n",
              "1                   88  254"
            ]
          },
          "execution_count": 154,
          "metadata": {},
          "output_type": "execute_result"
        }
      ],
      "source": [
        "pd.pivot_table(df,index='Survived',columns='numerical_tickets', values = 'Ticket', aggfunc='count')"
      ]
    },
    {
      "cell_type": "code",
      "execution_count": 155,
      "metadata": {
        "colab": {
          "base_uri": "https://localhost:8080/",
          "height": 172
        },
        "id": "Z7zo5kOPs82F",
        "outputId": "f3776302-4fa8-4bdd-b3a0-e95d8caf700f"
      },
      "outputs": [
        {
          "data": {
            "text/html": [
              "<div>\n",
              "<style scoped>\n",
              "    .dataframe tbody tr th:only-of-type {\n",
              "        vertical-align: middle;\n",
              "    }\n",
              "\n",
              "    .dataframe tbody tr th {\n",
              "        vertical-align: top;\n",
              "    }\n",
              "\n",
              "    .dataframe thead th {\n",
              "        text-align: right;\n",
              "    }\n",
              "</style>\n",
              "<table border=\"1\" class=\"dataframe\">\n",
              "  <thead>\n",
              "    <tr style=\"text-align: right;\">\n",
              "      <th>letter_ticket</th>\n",
              "      <th>0</th>\n",
              "      <th>a4</th>\n",
              "      <th>a5</th>\n",
              "      <th>as</th>\n",
              "      <th>c</th>\n",
              "      <th>ca</th>\n",
              "      <th>casoton</th>\n",
              "      <th>fa</th>\n",
              "      <th>fc</th>\n",
              "      <th>fcc</th>\n",
              "      <th>...</th>\n",
              "      <th>soc</th>\n",
              "      <th>sop</th>\n",
              "      <th>sopp</th>\n",
              "      <th>sotono2</th>\n",
              "      <th>sotonoq</th>\n",
              "      <th>sp</th>\n",
              "      <th>stono2</th>\n",
              "      <th>swpp</th>\n",
              "      <th>wc</th>\n",
              "      <th>wep</th>\n",
              "    </tr>\n",
              "    <tr>\n",
              "      <th>Survived</th>\n",
              "      <th></th>\n",
              "      <th></th>\n",
              "      <th></th>\n",
              "      <th></th>\n",
              "      <th></th>\n",
              "      <th></th>\n",
              "      <th></th>\n",
              "      <th></th>\n",
              "      <th></th>\n",
              "      <th></th>\n",
              "      <th></th>\n",
              "      <th></th>\n",
              "      <th></th>\n",
              "      <th></th>\n",
              "      <th></th>\n",
              "      <th></th>\n",
              "      <th></th>\n",
              "      <th></th>\n",
              "      <th></th>\n",
              "      <th></th>\n",
              "      <th></th>\n",
              "    </tr>\n",
              "  </thead>\n",
              "  <tbody>\n",
              "    <tr>\n",
              "      <th>0</th>\n",
              "      <td>410.0</td>\n",
              "      <td>7.0</td>\n",
              "      <td>19.0</td>\n",
              "      <td>1.0</td>\n",
              "      <td>3.0</td>\n",
              "      <td>27.0</td>\n",
              "      <td>1.0</td>\n",
              "      <td>1.0</td>\n",
              "      <td>1.0</td>\n",
              "      <td>1.0</td>\n",
              "      <td>...</td>\n",
              "      <td>5.0</td>\n",
              "      <td>1.0</td>\n",
              "      <td>3.0</td>\n",
              "      <td>2.0</td>\n",
              "      <td>13.0</td>\n",
              "      <td>1.0</td>\n",
              "      <td>10.0</td>\n",
              "      <td>NaN</td>\n",
              "      <td>9.0</td>\n",
              "      <td>2.0</td>\n",
              "    </tr>\n",
              "    <tr>\n",
              "      <th>1</th>\n",
              "      <td>255.0</td>\n",
              "      <td>NaN</td>\n",
              "      <td>2.0</td>\n",
              "      <td>NaN</td>\n",
              "      <td>2.0</td>\n",
              "      <td>14.0</td>\n",
              "      <td>NaN</td>\n",
              "      <td>NaN</td>\n",
              "      <td>NaN</td>\n",
              "      <td>4.0</td>\n",
              "      <td>...</td>\n",
              "      <td>1.0</td>\n",
              "      <td>NaN</td>\n",
              "      <td>NaN</td>\n",
              "      <td>NaN</td>\n",
              "      <td>2.0</td>\n",
              "      <td>NaN</td>\n",
              "      <td>8.0</td>\n",
              "      <td>2.0</td>\n",
              "      <td>1.0</td>\n",
              "      <td>1.0</td>\n",
              "    </tr>\n",
              "  </tbody>\n",
              "</table>\n",
              "<p>2 rows × 29 columns</p>\n",
              "</div>"
            ],
            "text/plain": [
              "letter_ticket      0   a4    a5   as    c    ca  casoton   fa   fc  fcc  ...  \\\n",
              "Survived                                                                 ...   \n",
              "0              410.0  7.0  19.0  1.0  3.0  27.0      1.0  1.0  1.0  1.0  ...   \n",
              "1              255.0  NaN   2.0  NaN  2.0  14.0      NaN  NaN  NaN  4.0  ...   \n",
              "\n",
              "letter_ticket  soc  sop  sopp  sotono2  sotonoq   sp  stono2  swpp   wc  wep  \n",
              "Survived                                                                      \n",
              "0              5.0  1.0   3.0      2.0     13.0  1.0    10.0   NaN  9.0  2.0  \n",
              "1              1.0  NaN   NaN      NaN      2.0  NaN     8.0   2.0  1.0  1.0  \n",
              "\n",
              "[2 rows x 29 columns]"
            ]
          },
          "execution_count": 155,
          "metadata": {},
          "output_type": "execute_result"
        }
      ],
      "source": [
        "pd.pivot_table(df,index='Survived',columns='letter_ticket', values = 'Ticket', aggfunc='count')"
      ]
    },
    {
      "cell_type": "code",
      "execution_count": 156,
      "metadata": {
        "colab": {
          "base_uri": "https://localhost:8080/",
          "height": 241
        },
        "id": "u-i0BA66uy_p",
        "outputId": "43adad28-b2dc-419c-f362-5d07a3f2c610"
      },
      "outputs": [
        {
          "data": {
            "text/plain": [
              "0                              Braund, Mr. Owen Harris\n",
              "1    Cumings, Mrs. John Bradley (Florence Briggs Th...\n",
              "2                               Heikkinen, Miss. Laina\n",
              "3         Futrelle, Mrs. Jacques Heath (Lily May Peel)\n",
              "4                             Allen, Mr. William Henry\n",
              "Name: Name, dtype: object"
            ]
          },
          "execution_count": 156,
          "metadata": {},
          "output_type": "execute_result"
        }
      ],
      "source": [
        "df.Name.head()"
      ]
    },
    {
      "cell_type": "markdown",
      "metadata": {
        "id": "rfnIXB3ovh3P"
      },
      "source": [
        "Make a new feature to store title for each passesnger's name"
      ]
    },
    {
      "cell_type": "code",
      "execution_count": 157,
      "metadata": {
        "id": "5QIxexTMu4vN"
      },
      "outputs": [],
      "source": [
        "df['name_title'] = df.Name.apply(lambda x: x.split(',')[1].split('.')[0].strip()) # Take the second (after ,), then take the first element of the array which is the title of the passenger. Strip to delete unnecessary space."
      ]
    },
    {
      "cell_type": "code",
      "execution_count": 158,
      "metadata": {
        "colab": {
          "base_uri": "https://localhost:8080/",
          "height": 648
        },
        "id": "7dTOZIqzvBH0",
        "outputId": "b6932d34-ce44-4f6d-c916-65a5f00f2ca0"
      },
      "outputs": [
        {
          "data": {
            "text/plain": [
              "name_title\n",
              "Mr              517\n",
              "Miss            182\n",
              "Mrs             125\n",
              "Master           40\n",
              "Dr                7\n",
              "Rev               6\n",
              "Mlle              2\n",
              "Major             2\n",
              "Col               2\n",
              "the Countess      1\n",
              "Capt              1\n",
              "Ms                1\n",
              "Sir               1\n",
              "Lady              1\n",
              "Mme               1\n",
              "Don               1\n",
              "Jonkheer          1\n",
              "Name: count, dtype: int64"
            ]
          },
          "execution_count": 158,
          "metadata": {},
          "output_type": "execute_result"
        }
      ],
      "source": [
        "df['name_title'].value_counts()"
      ]
    },
    {
      "cell_type": "markdown",
      "metadata": {
        "id": "z5b67NhlwUII"
      },
      "source": [
        "#  Data preprocessing for model"
      ]
    },
    {
      "cell_type": "markdown",
      "metadata": {
        "id": "ry3HsKt8w95W"
      },
      "source": [
        "1. Drop null values from Embarked (only 2).\n",
        "\n",
        "2. Include only relevant features.\n",
        "    \n",
        "  Features: 'Pclass', 'Sex','Age', 'SibSp', 'Parch', 'Fare', 'Embarked', 'cabin_adv', 'cabin_multiple', 'numeric_ticket', 'name_title'.\n",
        "\n",
        "3. Do categorical transforms on all data. Usually we would use a transformer, but with this approach we can ensure that our traning and test data have the same colums. We also may be able to infer something about the shape of the test data through this method.\n",
        "\n",
        "4. Impute data with median for fare and age (mean is also worth to try).\n",
        "\n",
        "5. Normalized fare using logarithm to give more semblance of a normal distribution.\n",
        "\n",
        "6. Scaled data 0-1 with standard scaler."
      ]
    },
    {
      "cell_type": "code",
      "execution_count": 159,
      "metadata": {
        "colab": {
          "base_uri": "https://localhost:8080/"
        },
        "id": "FN7egRZ-10m0",
        "outputId": "6ea54262-d462-4e74-dc8c-8a21b8a46613"
      },
      "outputs": [
        {
          "data": {
            "text/plain": [
              "(889,)"
            ]
          },
          "execution_count": 159,
          "metadata": {},
          "output_type": "execute_result"
        }
      ],
      "source": [
        "# Create all categorical variables that we did above for both training and test sets\n",
        "\n",
        "all_data['cabin_multiple'] = all_data.Cabin.apply(lambda x: 0 if pd.isna(x) else len(x.split(' ')))\n",
        "all_data['cabin_adv'] = all_data.Cabin.apply(lambda x: str(x)[0])\n",
        "all_data['numeric_ticket'] = all_data.Ticket.apply(lambda x: 1 if x.isnumeric() else 0)\n",
        "all_data['ticket_letters'] = all_data.Ticket.apply(lambda x: ''.join(x.split(' ')[:-1]).replace('.','').replace('/','').lower() if len(x.split(' ')[:-1]) >0 else 0)\n",
        "all_data['name_title'] = all_data.Name.apply(lambda x: x.split(',')[1].split('.')[0].strip())\n",
        "\n",
        "# Drop null 'embarked' rows. Only 2 instances of this in training and 0 in test\n",
        "all_data.dropna(subset=['Embarked'],inplace = True)\n",
        "\n",
        "# Impute null values in some feature\n",
        "all_data.Age = all_data.Age.fillna(df.Age.median())\n",
        "all_data.Fare = all_data.Fare.fillna(df.Fare.median())\n",
        "\n",
        "# log norm of fare to make it normally distributed\n",
        "all_data['norm_fare'] = np.log(all_data.Fare+1)\n",
        "\n",
        "# Convert fare to category for pd.get_dummies()\n",
        "all_data.Pclass = all_data.Pclass.astype(str)\n",
        "\n",
        "# Create dummy variables from categories (also can use OneHotEncoder), dummy here to convert all categorical values to numerical data by creating new column that contains either 0 or 1 based on the categories\n",
        "all_dummies = pd.get_dummies(all_data[['Pclass','Sex','Age','SibSp','Parch','norm_fare','Embarked','cabin_adv','cabin_multiple','numeric_ticket','name_title','train_test']])\n",
        "\n",
        "# Split to train test again, 1 for training and 0 for testing, after we split the data, drop the train_test since we dont need it anymore\n",
        "X_train = all_dummies[all_dummies.train_test == 1].drop(['train_test'], axis =1)\n",
        "X_test = all_dummies[all_dummies.train_test == 0].drop(['train_test'], axis =1)\n",
        "\n",
        "\n",
        "y_train = all_data[all_data.train_test==1].Survived\n",
        "y_train.shape\n",
        "\n"
      ]
    },
    {
      "cell_type": "code",
      "execution_count": 160,
      "metadata": {
        "colab": {
          "base_uri": "https://localhost:8080/",
          "height": 1000
        },
        "id": "u8zVf8mrkfJ8",
        "outputId": "bd9c53cc-9abf-4b58-b7a5-595b26ee8731"
      },
      "outputs": [
        {
          "data": {
            "text/plain": [
              "0      0.0\n",
              "1      1.0\n",
              "2      1.0\n",
              "3      1.0\n",
              "4      0.0\n",
              "      ... \n",
              "886    0.0\n",
              "887    1.0\n",
              "888    0.0\n",
              "889    1.0\n",
              "890    0.0\n",
              "Name: Survived, Length: 889, dtype: float64"
            ]
          },
          "execution_count": 160,
          "metadata": {},
          "output_type": "execute_result"
        }
      ],
      "source": [
        "y_train"
      ]
    },
    {
      "cell_type": "code",
      "execution_count": 161,
      "metadata": {
        "id": "JU5RdNrXRZ45"
      },
      "outputs": [],
      "source": [
        "# Scale data\n",
        "from sklearn.preprocessing import StandardScaler\n",
        "\n",
        "scale = StandardScaler()\n",
        "all_dummies_scaled = all_dummies.copy()\n",
        "all_dummies_scaled[['Age','SibSp','Parch','norm_fare']]= scale.fit_transform(all_dummies_scaled[['Age','SibSp','Parch','norm_fare']])\n",
        "all_dummies_scaled\n",
        "\n",
        "X_train_scaled = all_dummies_scaled[all_dummies_scaled.train_test == 1].drop(['train_test'], axis =1)\n",
        "X_test_scaled = all_dummies_scaled[all_dummies_scaled.train_test == 0].drop(['train_test'], axis =1)\n",
        "\n",
        "y_train = all_data[all_data.train_test==1].Survived"
      ]
    },
    {
      "cell_type": "markdown",
      "metadata": {
        "id": "D1bsrDSqejWW"
      },
      "source": [
        "# Modelling"
      ]
    },
    {
      "cell_type": "code",
      "execution_count": 162,
      "metadata": {
        "id": "w2T9ibhVeoSP"
      },
      "outputs": [],
      "source": [
        "from sklearn.model_selection import cross_val_score\n",
        "from sklearn.naive_bayes import GaussianNB\n",
        "from sklearn.linear_model import LogisticRegression\n",
        "from sklearn.tree import DecisionTreeClassifier\n",
        "from sklearn.neighbors import KNeighborsClassifier\n",
        "from sklearn.ensemble import RandomForestClassifier\n",
        "from sklearn.svm import SVC"
      ]
    },
    {
      "cell_type": "code",
      "execution_count": 163,
      "metadata": {
        "colab": {
          "base_uri": "https://localhost:8080/"
        },
        "id": "Kz4HrQ0wep8V",
        "outputId": "66c2c1cc-96c2-4686-b784-25ec03e8c3f0"
      },
      "outputs": [
        {
          "name": "stdout",
          "output_type": "stream",
          "text": [
            "[0.66853933 0.70224719 0.76966292 0.75842697 0.72881356]\n",
            "0.7255379927632831\n"
          ]
        }
      ],
      "source": [
        "# Naive Bayes\n",
        "gnb = GaussianNB()\n",
        "cv = cross_val_score(gnb, X_train, y_train, cv=5)\n",
        "print(cv)\n",
        "print(cv.mean())"
      ]
    },
    {
      "cell_type": "code",
      "execution_count": 164,
      "metadata": {
        "colab": {
          "base_uri": "https://localhost:8080/"
        },
        "id": "QTj54EH7e6ZS",
        "outputId": "1a6278d2-197f-40cc-b4c4-42d05d8fce1b"
      },
      "outputs": [
        {
          "name": "stdout",
          "output_type": "stream",
          "text": [
            "[0.8258427  0.80898876 0.80337079 0.82022472 0.85310734]\n",
            "0.8223068621849807\n"
          ]
        }
      ],
      "source": [
        "# Logistic Regression\n",
        "lr = LogisticRegression(max_iter = 5000)\n",
        "cv = cross_val_score(lr,X_train,y_train,cv=5)\n",
        "print(cv)\n",
        "print(cv.mean())"
      ]
    },
    {
      "cell_type": "code",
      "execution_count": 165,
      "metadata": {
        "colab": {
          "base_uri": "https://localhost:8080/"
        },
        "id": "to6CvVHpe9o2",
        "outputId": "e48a364e-b5b8-4af5-8b77-a742e66fb8b2"
      },
      "outputs": [
        {
          "name": "stdout",
          "output_type": "stream",
          "text": [
            "[0.74719101 0.7752809  0.84831461 0.74157303 0.8079096 ]\n",
            "0.7840538310163143\n"
          ]
        }
      ],
      "source": [
        "# Decision Tree\n",
        "dt = DecisionTreeClassifier(random_state = 42)\n",
        "cv = cross_val_score(dt,X_train,y_train,cv=5)\n",
        "print(cv)\n",
        "print(cv.mean())"
      ]
    },
    {
      "cell_type": "code",
      "execution_count": 166,
      "metadata": {
        "colab": {
          "base_uri": "https://localhost:8080/"
        },
        "id": "IN02v9dNfD2y",
        "outputId": "e3bf9c42-2fd4-44af-c381-06728391af87"
      },
      "outputs": [
        {
          "name": "stdout",
          "output_type": "stream",
          "text": [
            "[0.76966292 0.79775281 0.80898876 0.82022472 0.85310734]\n",
            "0.8099473116231829\n"
          ]
        }
      ],
      "source": [
        "# K-Neighbors\n",
        "knn = KNeighborsClassifier()\n",
        "cv = cross_val_score(knn,X_train,y_train,cv=5)\n",
        "print(cv)\n",
        "print(cv.mean())"
      ]
    },
    {
      "cell_type": "code",
      "execution_count": 167,
      "metadata": {
        "colab": {
          "base_uri": "https://localhost:8080/"
        },
        "id": "AvCuiaKOfCPC",
        "outputId": "671f9cb4-016a-4322-99cd-ee1818c61907"
      },
      "outputs": [
        {
          "name": "stdout",
          "output_type": "stream",
          "text": [
            "[0.80337079 0.78651685 0.85955056 0.74157303 0.83050847]\n",
            "0.8043039421062655\n"
          ]
        }
      ],
      "source": [
        "# Random Forest\n",
        "rf = RandomForestClassifier(random_state = 42)\n",
        "cv = cross_val_score(rf,X_train,y_train,cv=5)\n",
        "print(cv)\n",
        "print(cv.mean())"
      ]
    },
    {
      "cell_type": "code",
      "execution_count": 168,
      "metadata": {
        "colab": {
          "base_uri": "https://localhost:8080/"
        },
        "id": "zL2k46LHfJYU",
        "outputId": "fd9d60a2-0456-413a-fd0c-f689fec00e81"
      },
      "outputs": [
        {
          "name": "stdout",
          "output_type": "stream",
          "text": [
            "[0.85393258 0.82022472 0.8258427  0.80337079 0.86440678]\n",
            "0.8335555132355742\n"
          ]
        }
      ],
      "source": [
        "# Support Vector Classifier\n",
        "svc = SVC(probability = True)\n",
        "cv = cross_val_score(svc,X_train_scaled,y_train,cv=5)\n",
        "print(cv)\n",
        "print(cv.mean())"
      ]
    },
    {
      "cell_type": "code",
      "execution_count": 169,
      "metadata": {
        "colab": {
          "base_uri": "https://localhost:8080/"
        },
        "id": "jd-Ny31MfKn7",
        "outputId": "6d52b2d5-9447-4462-fdba-1f0fcef37d80"
      },
      "outputs": [
        {
          "name": "stdout",
          "output_type": "stream",
          "text": [
            "[0.80337079 0.80898876 0.85393258 0.78651685 0.80225989]\n",
            "0.8110137751539389\n"
          ]
        }
      ],
      "source": [
        "# XGBoost\n",
        "from xgboost import XGBClassifier\n",
        "xgb = XGBClassifier(random_state = 42)\n",
        "cv = cross_val_score(xgb,X_train_scaled,y_train,cv=5)\n",
        "print(cv)\n",
        "print(cv.mean())"
      ]
    },
    {
      "cell_type": "code",
      "execution_count": 170,
      "metadata": {
        "id": "Pws768D_fMC-"
      },
      "outputs": [],
      "source": [
        "# Voting classifier takes all of the inputs and averages the results. For a \"hard\" voting classifier each classifier gets 1 vote \"yes\" or \"no\" and the result is label that has the most vote.\n",
        "# A \"soft\" classifier averages the confidence of each of the models. If a the average confidence is > 50% that it is a 1 it will be counted as such\n",
        "from sklearn.ensemble import VotingClassifier\n",
        "voting_classifier = VotingClassifier(estimators = [('lr',lr),('knn',knn),('rf',rf),('gnb',gnb),('svc',svc),('xgb',xgb)], voting = 'soft')"
      ]
    },
    {
      "cell_type": "code",
      "execution_count": 171,
      "metadata": {
        "colab": {
          "base_uri": "https://localhost:8080/"
        },
        "id": "IXofGU5zhQcE",
        "outputId": "f7e24712-ed18-4722-a4a0-bc952c06e0fc"
      },
      "outputs": [
        {
          "name": "stdout",
          "output_type": "stream",
          "text": [
            "[0.8258427  0.81460674 0.83707865 0.79775281 0.84745763]\n",
            "0.8245477051990097\n"
          ]
        }
      ],
      "source": [
        "cv = cross_val_score(voting_classifier,X_train_scaled,y_train,cv=5)\n",
        "print(cv)\n",
        "print(cv.mean())"
      ]
    },
    {
      "cell_type": "code",
      "execution_count": 172,
      "metadata": {
        "id": "V3z6q4WvhUdi"
      },
      "outputs": [],
      "source": [
        "voting_classifier.fit(X_train_scaled,y_train)\n",
        "y_pred = voting_classifier.predict(X_test_scaled).astype(int)\n",
        "basic_submission = {'PassengerId': test.PassengerId, 'Survived': y_pred}\n",
        "base_submission = pd.DataFrame(data=basic_submission)\n",
        "base_submission.to_csv('base_submission.csv', index=False)"
      ]
    },
    {
      "cell_type": "markdown",
      "metadata": {
        "id": "E7NWhgf2qu-w"
      },
      "source": [
        "# Model Tuned Performance"
      ]
    },
    {
      "cell_type": "code",
      "execution_count": 173,
      "metadata": {
        "id": "-MLLb8Gnqwcb"
      },
      "outputs": [],
      "source": [
        "from sklearn.model_selection import GridSearchCV\n",
        "from sklearn.model_selection import RandomizedSearchCV\n",
        "# NOTE: Due to computation limitation, some model will use RandomizedSearchCV for this project."
      ]
    },
    {
      "cell_type": "code",
      "execution_count": 174,
      "metadata": {
        "id": "Pt8lB87zrZIG"
      },
      "outputs": [],
      "source": [
        "def clf_performance(classifier, model_name):\n",
        "  \"\"\"\n",
        "    Return model's performance\n",
        "  \"\"\"\n",
        "  print(model_name)\n",
        "  print('Best Score: ' + str(classifier.best_score_))\n",
        "  print('Best Parameters: ' + str(classifier.best_params_))"
      ]
    },
    {
      "cell_type": "code",
      "execution_count": 175,
      "metadata": {
        "colab": {
          "base_uri": "https://localhost:8080/"
        },
        "id": "7fopT-7prcpq",
        "outputId": "92d8cd84-1762-4662-85fb-ce2c67fb263f"
      },
      "outputs": [
        {
          "name": "stdout",
          "output_type": "stream",
          "text": [
            "Fitting 5 folds for each of 40 candidates, totalling 200 fits\n",
            "Logistic Regression\n",
            "Best Score: 0.8279375357074843\n",
            "Best Parameters: {'C': 1.623776739188721, 'max_iter': 2000, 'penalty': 'l1', 'solver': 'liblinear'}\n"
          ]
        }
      ],
      "source": [
        "lr = LogisticRegression()\n",
        "param_grid = {'max_iter' : [2000],\n",
        "              'penalty' : ['l1', 'l2'],\n",
        "              'C' : np.logspace(-4, 4, 20),\n",
        "              'solver' : ['liblinear']}\n",
        "\n",
        "clf_lr = GridSearchCV(lr, param_grid = param_grid, cv = 5, verbose = True, n_jobs = -1)\n",
        "best_clf_lr = clf_lr.fit(X_train_scaled,y_train)\n",
        "clf_performance(best_clf_lr,'Logistic Regression')"
      ]
    },
    {
      "cell_type": "code",
      "execution_count": 176,
      "metadata": {
        "colab": {
          "base_uri": "https://localhost:8080/"
        },
        "id": "4BIkUsVIrgfR",
        "outputId": "078cbe4a-53ff-4c1f-a9f6-6cfab01df0ef"
      },
      "outputs": [
        {
          "name": "stdout",
          "output_type": "stream",
          "text": [
            "Fitting 5 folds for each of 48 candidates, totalling 240 fits\n",
            "KNN\n",
            "Best Score: 0.8290611312131023\n",
            "Best Parameters: {'algorithm': 'ball_tree', 'n_neighbors': 7, 'p': 2, 'weights': 'uniform'}\n"
          ]
        }
      ],
      "source": [
        "knn = KNeighborsClassifier()\n",
        "param_grid = {'n_neighbors' : [3,5,7,9],\n",
        "              'weights' : ['uniform', 'distance'],\n",
        "              'algorithm' : ['auto', 'ball_tree','kd_tree'],\n",
        "              'p' : [1,2]}\n",
        "clf_knn = GridSearchCV(knn, param_grid = param_grid, cv = 5, verbose = True, n_jobs = -1)\n",
        "best_clf_knn = clf_knn.fit(X_train_scaled,y_train)\n",
        "clf_performance(best_clf_knn,'KNN')"
      ]
    },
    {
      "cell_type": "code",
      "execution_count": 178,
      "metadata": {
        "colab": {
          "base_uri": "https://localhost:8080/"
        },
        "id": "SYJznylJrh1N",
        "outputId": "f9bafa6e-f512-4d21-bc2f-c3a4cdfed9a4"
      },
      "outputs": [
        {
          "name": "stdout",
          "output_type": "stream",
          "text": [
            "Fitting 5 folds for each of 10 candidates, totalling 50 fits\n",
            "SVC\n",
            "Best Score: 0.8279375357074843\n",
            "Best Parameters: {'kernel': 'poly', 'degree': 3, 'C': 0.1}\n"
          ]
        }
      ],
      "source": [
        "svc = SVC(probability = True)\n",
        "param_grid = tuned_parameters = [{'kernel': ['rbf'], 'gamma': [.1,.5,1,2,5,10],\n",
        "                                  'C': [.1, 1, 10, 100, 1000]},\n",
        "                                 {'kernel': ['linear'], 'C': [.1, 1, 10, 100, 1000]},\n",
        "                                 {'kernel': ['poly'], 'degree' : [2,3,4,5], 'C': [.1, 1, 10, 100, 1000]}]\n",
        "clf_svc = RandomizedSearchCV(svc, param_distributions = param_grid, cv = 5, verbose = True, n_jobs = -1)\n",
        "best_clf_svc = clf_svc.fit(X_train_scaled,y_train)\n",
        "clf_performance(best_clf_svc,'SVC')"
      ]
    },
    {
      "cell_type": "code",
      "execution_count": 180,
      "metadata": {
        "colab": {
          "background_save": true
        },
        "id": "o7kYYrwHvFig"
      },
      "outputs": [
        {
          "name": "stdout",
          "output_type": "stream",
          "text": [
            "Fitting 5 folds for each of 10 candidates, totalling 50 fits\n",
            "Random Forest\n",
            "Best Score: 0.8335555132355742\n",
            "Best Parameters: {'n_estimators': 500, 'min_samples_split': 2, 'min_samples_leaf': 2, 'max_features': 10, 'max_depth': 15, 'criterion': 'entropy', 'bootstrap': True}\n"
          ]
        }
      ],
      "source": [
        "rf = RandomForestClassifier(random_state = 42)\n",
        "param_grid = {\n",
        "    'n_estimators': [400, 450, 500, 550],\n",
        "    'criterion': ['gini', 'entropy'],\n",
        "    'bootstrap': [True],\n",
        "    'max_depth': [15, 20, 25],\n",
        "    'max_features': ['sqrt', 'log2', 10],  \n",
        "    'min_samples_leaf': [2, 3],\n",
        "    'min_samples_split': [2, 3]\n",
        "}\n",
        "\n",
        "clf_rf = RandomizedSearchCV(rf, param_distributions = param_grid, cv = 5, verbose = True, n_jobs = -1)\n",
        "best_clf_rf = clf_rf.fit(X_train_scaled,y_train)\n",
        "clf_performance(best_clf_rf,'Random Forest')"
      ]
    },
    {
      "cell_type": "code",
      "execution_count": 181,
      "metadata": {
        "colab": {
          "background_save": true
        },
        "id": "qpdCQFbSvIAw"
      },
      "outputs": [
        {
          "data": {
            "text/plain": [
              "<Axes: >"
            ]
          },
          "execution_count": 181,
          "metadata": {},
          "output_type": "execute_result"
        },
        {
          "data": {
            "image/png": "[encoded data removed]",
            "text/plain": [
              "<Figure size 640x480 with 1 Axes>"
            ]
          },
          "metadata": {},
          "output_type": "display_data"
        }
      ],
      "source": [
        "# Use random forest since it has the highest score, plot the feature importance of each feature\n",
        "best_rf = best_clf_rf.best_estimator_.fit(X_train_scaled,y_train)\n",
        "feat_importances = pd.Series(best_rf.feature_importances_, index=X_train_scaled.columns)\n",
        "feat_importances.nlargest(20).plot(kind='barh')"
      ]
    },
    {
      "cell_type": "code",
      "execution_count": 182,
      "metadata": {
        "colab": {
          "background_save": true
        },
        "id": "rMzZ8VnfvK3K"
      },
      "outputs": [
        {
          "name": "stdout",
          "output_type": "stream",
          "text": [
            "Fitting 5 folds for each of 10 candidates, totalling 50 fits\n"
          ]
        },
        {
          "name": "stderr",
          "output_type": "stream",
          "text": [
            "C:\\Users\\Lenovo\\AppData\\Roaming\\Python\\Python312\\site-packages\\joblib\\externals\\loky\\process_executor.py:752: UserWarning: A worker stopped while some jobs were given to the executor. This can be caused by a too short worker timeout or by a memory leak.\n",
            "  warnings.warn(\n"
          ]
        },
        {
          "name": "stdout",
          "output_type": "stream",
          "text": [
            "XGB\n",
            "Best Score: 0.8380308512664254\n",
            "Best Parameters: {'subsample': 0.65, 'sampling_method': 'uniform', 'reg_lambda': 5, 'reg_alpha': 1, 'n_estimators': 550, 'min_child_weight': 0.01, 'max_depth': None, 'learning_rate': 0.5, 'gamma': 1, 'colsample_bytree': 0.75}\n"
          ]
        }
      ],
      "source": [
        "# Check for XGBoost\n",
        "\n",
        "xgb = XGBClassifier(random_state = 42)\n",
        "\n",
        "param_grid = {\n",
        "    'n_estimators': [450,500,550],\n",
        "    'colsample_bytree': [0.75,0.8,0.85],\n",
        "    'max_depth': [None],\n",
        "    'reg_alpha': [1],\n",
        "    'reg_lambda': [2, 5, 10],\n",
        "    'subsample': [0.55, 0.6, .65],\n",
        "    'learning_rate':[0.5],\n",
        "    'gamma':[.5,1,2],\n",
        "    'min_child_weight':[0.01],\n",
        "    'sampling_method': ['uniform']\n",
        "}\n",
        "\n",
        "clf_xgb = RandomizedSearchCV(xgb, param_distributions = param_grid, cv = 5, verbose = True, n_jobs = -1)\n",
        "best_clf_xgb = clf_xgb.fit(X_train_scaled,y_train)\n",
        "clf_performance(best_clf_xgb,'XGB')"
      ]
    },
    {
      "cell_type": "code",
      "execution_count": 183,
      "metadata": {
        "colab": {
          "background_save": true
        },
        "id": "ge8dyTFpvMsS"
      },
      "outputs": [],
      "source": [
        "y_pred = best_clf_xgb.best_estimator_.predict(X_test_scaled).astype(int)\n",
        "xgb_submission = {'PassengerId': test.PassengerId, 'Survived': y_pred}\n",
        "submission_xgb = pd.DataFrame(data=xgb_submission)\n",
        "submission_xgb.to_csv('xgb_submission3.csv', index=False)"
      ]
    },
    {
      "cell_type": "code",
      "execution_count": 184,
      "metadata": {
        "colab": {
          "background_save": true
        },
        "id": "0fy8Uy9FvO6L"
      },
      "outputs": [
        {
          "name": "stdout",
          "output_type": "stream",
          "text": [
            "voting_clf_hard : [0.79775281 0.80337079 0.84269663 0.78089888 0.84180791]\n",
            "voting_clf_hard mean : 0.813305402145623\n",
            "voting_clf_soft : [0.78089888 0.79775281 0.85955056 0.78651685 0.85310734]\n",
            "voting_clf_soft mean : 0.8133180981400369\n",
            "voting_clf_lr : [0.80898876 0.81460674 0.84269663 0.79775281 0.86440678]\n",
            "voting_clf_lr mean : 0.8279438837046911\n",
            "voting_clf_all : [0.82022472 0.8258427  0.85393258 0.82022472 0.8700565 ]\n",
            "voting_clf_all mean : 0.838056243255253\n"
          ]
        }
      ],
      "source": [
        "best_lr = best_clf_lr.best_estimator_\n",
        "best_knn = best_clf_knn.best_estimator_\n",
        "best_svc = best_clf_svc.best_estimator_\n",
        "best_rf = best_clf_rf.best_estimator_\n",
        "best_xgb = best_clf_xgb.best_estimator_\n",
        "\n",
        "voting_clf_hard = VotingClassifier(estimators = [('knn',best_knn),('rf',best_rf),('svc',best_svc)], voting = 'hard')\n",
        "voting_clf_soft = VotingClassifier(estimators = [('knn',best_knn),('rf',best_rf),('svc',best_svc)], voting = 'soft')\n",
        "voting_clf_lr = VotingClassifier(estimators = [('knn',best_knn),('rf',best_rf),('svc',best_svc), ('lr', best_lr)], voting = 'soft')\n",
        "voting_clf_all = VotingClassifier(estimators = [('knn',best_knn),('rf',best_rf),('svc',best_svc), ('xgb', best_xgb),('lr', best_lr)], voting = 'soft')\n",
        "\n",
        "print('voting_clf_hard :',cross_val_score(voting_clf_hard,X_train,y_train,cv=5))\n",
        "print('voting_clf_hard mean :',cross_val_score(voting_clf_hard,X_train,y_train,cv=5).mean())\n",
        "\n",
        "print('voting_clf_soft :',cross_val_score(voting_clf_soft,X_train,y_train,cv=5))\n",
        "print('voting_clf_soft mean :',cross_val_score(voting_clf_soft,X_train,y_train,cv=5).mean())\n",
        "\n",
        "print('voting_clf_lr :',cross_val_score(voting_clf_lr,X_train,y_train,cv=5))\n",
        "print('voting_clf_lr mean :',cross_val_score(voting_clf_lr,X_train,y_train,cv=5).mean())\n",
        "\n",
        "print('voting_clf_all :',cross_val_score(voting_clf_all,X_train,y_train,cv=5))\n",
        "print('voting_clf_all mean :',cross_val_score(voting_clf_all,X_train,y_train,cv=5).mean())"
      ]
    },
    {
      "cell_type": "code",
      "execution_count": 185,
      "metadata": {
        "colab": {
          "background_save": true
        },
        "id": "92jOg6UtvPTQ"
      },
      "outputs": [
        {
          "name": "stdout",
          "output_type": "stream",
          "text": [
            "Fitting 5 folds for each of 7 candidates, totalling 35 fits\n"
          ]
        },
        {
          "name": "stderr",
          "output_type": "stream",
          "text": [
            "C:\\Users\\Lenovo\\AppData\\Roaming\\Python\\Python312\\site-packages\\sklearn\\model_selection\\_search.py:320: UserWarning: The total space of parameters 7 is smaller than n_iter=10. Running 7 iterations. For exhaustive searches, use GridSearchCV.\n",
            "  warnings.warn(\n"
          ]
        },
        {
          "name": "stdout",
          "output_type": "stream",
          "text": [
            "VC Weights\n",
            "Best Score: 0.833561861232781\n",
            "Best Parameters: {'weights': [1, 2, 2]}\n"
          ]
        }
      ],
      "source": [
        "params = {'weights' : [[1,1,1],[1,2,1],[1,1,2],[2,1,1],[2,2,1],[1,2,2],[2,1,2]]}\n",
        "\n",
        "vote_weight = RandomizedSearchCV(voting_clf_soft, param_distributions = params, cv = 5, verbose = True, n_jobs = -1)\n",
        "best_clf_weight = vote_weight.fit(X_train_scaled,y_train)\n",
        "clf_performance(best_clf_weight,'VC Weights')\n",
        "voting_clf_sub = best_clf_weight.best_estimator_.predict(X_test_scaled)"
      ]
    },
    {
      "cell_type": "code",
      "execution_count": 186,
      "metadata": {
        "colab": {
          "background_save": true
        },
        "id": "lzZ4PtR2vUy9"
      },
      "outputs": [],
      "source": [
        "# Make Predictions\n",
        "voting_clf_hard.fit(X_train_scaled, y_train)\n",
        "voting_clf_soft.fit(X_train_scaled, y_train)\n",
        "voting_clf_lr.fit(X_train_scaled, y_train)\n",
        "voting_clf_all.fit(X_train_scaled, y_train)\n",
        "\n",
        "best_rf.fit(X_train_scaled, y_train)\n",
        "y_pred_vc_hard = voting_clf_hard.predict(X_test_scaled).astype(int)\n",
        "y_pred_rf = best_rf.predict(X_test_scaled).astype(int)\n",
        "y_pred_vc_soft =  voting_clf_soft.predict(X_test_scaled).astype(int)\n",
        "y_pred_lr = voting_clf_lr.predict(X_test_scaled).astype(int)\n",
        "y_pred_all = voting_clf_all.predict(X_test_scaled).astype(int)"
      ]
    },
    {
      "cell_type": "code",
      "execution_count": 187,
      "metadata": {
        "colab": {
          "background_save": true
        },
        "id": "ONjYRzOlvXoc"
      },
      "outputs": [],
      "source": [
        "# Convert output to dataframe\n",
        "final_data = {'PassengerId': test.PassengerId, 'Survived': y_pred_rf}\n",
        "submission = pd.DataFrame(data=final_data)\n",
        "\n",
        "final_data_2 = {'PassengerId': test.PassengerId, 'Survived': y_pred_vc_hard}\n",
        "submission_2 = pd.DataFrame(data=final_data_2)\n",
        "\n",
        "final_data_3 = {'PassengerId': test.PassengerId, 'Survived': y_pred_vc_soft}\n",
        "submission_3 = pd.DataFrame(data=final_data_3)\n",
        "\n",
        "final_data_4 = {'PassengerId': test.PassengerId, 'Survived': y_pred_lr}\n",
        "submission_4 = pd.DataFrame(data=final_data_4)\n",
        "\n",
        "final_data_5 = {'PassengerId': test.PassengerId, 'Survived': y_pred_all}\n",
        "submission_5 = pd.DataFrame(data=final_data_5)\n",
        "\n",
        "final_data_comp = {'PassengerId': test.PassengerId, 'Survived_vc_hard': y_pred_vc_hard, 'Survived_rf': y_pred_rf, 'Survived_vc_soft' : y_pred_vc_soft, 'Survived_vc_lr' : y_pred_lr,  'Survived_vc_all' : y_pred_all}\n",
        "comparison = pd.DataFrame(data=final_data_comp)"
      ]
    },
    {
      "cell_type": "code",
      "execution_count": 188,
      "metadata": {
        "colab": {
          "background_save": true
        },
        "id": "F8X6mPRcvZZm"
      },
      "outputs": [],
      "source": [
        "submission.to_csv('submission_rf.csv', index =False)\n",
        "submission_2.to_csv('submission_vc_hard.csv',index=False)\n",
        "submission_3.to_csv('submission_vc_soft.csv', index=False)\n",
        "submission_4.to_csv('submission_vc_lr.csv', index=False)\n",
        "submission_5.to_csv('submission_vc_all.csv', index=False)"
      ]
    }
  ],
  "metadata": {
    "accelerator": "GPU",
    "colab": {
      "gpuType": "T4",
      "provenance": []
    },
    "kernelspec": {
      "display_name": "Python 3",
      "name": "python3"
    },
    "language_info": {
      "codemirror_mode": {
        "name": "ipython",
        "version": 3
      },
      "file_extension": ".py",
      "mimetype": "text/x-python",
      "name": "python",
      "nbconvert_exporter": "python",
      "pygments_lexer": "ipython3",
      "version": "3.12.4"
    }
  },
  "nbformat": 4,
  "nbformat_minor": 0
}
